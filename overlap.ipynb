{
 "cells": [
  {
   "cell_type": "code",
   "execution_count": 3,
   "metadata": {},
   "outputs": [],
   "source": [
    "import numpy as np\n",
    "import matplotlib.pyplot as plt\n",
    "from PIL import Image, ImageDraw\n",
    "from pathlib import Path\n",
    "from scipy.ndimage import label\n",
    "import pandas as pd\n",
    "import h5py\n",
    "import tqdm"
   ]
  },
  {
   "cell_type": "code",
   "execution_count": 4,
   "metadata": {},
   "outputs": [],
   "source": [
    "def average_attentions(attention_list):    \n",
    "    summed_att=np.zeros_like(np.load(attention_list[0]))\n",
    "    count_non_zero= np.zeros_like(summed_att)\n",
    "    for attention in attention_list:\n",
    "        att=np.load(attention)\n",
    "        att=np.nan_to_num(att)\n",
    "        summed_att=summed_att+att\n",
    "        count_non_zero=count_non_zero+(att>0).astype(np.uint32)\n",
    "    return summed_att,summed_att/count_non_zero,count_non_zero\n",
    "\n",
    "def get_image(image_name,slide_folder):\n",
    "    slide_name,scene_nr=get_slide_name(image_name)\n",
    "    slide=Image.open(slide_name)\n",
    "    scene = slide.get_scene(scene_nr)\n",
    "    wsi = wsi[..., ::-1]\n",
    "    orig_size=np.uint32(np.array(size)/8)\n",
    "    return wsi,orig_size\n"
   ]
  },
  {
   "cell_type": "code",
   "execution_count": 5,
   "metadata": {},
   "outputs": [],
   "source": [
    "\n",
    "\n",
    "def get_high_attention_patch(attention_map,slide_folder,image_name,save_path):\n",
    "\n",
    "    return \n",
    "\n",
    "\n",
    "def overlay_colormap_on_rgb(rgb_image, heatmap_image, image_name,save_path,high_att_coord, cmap='viridis', alpha=0.4):\n",
    "\n",
    "    alpha_channel = np.ones((rgb_image.shape[0], rgb_image.shape[1]), dtype=np.uint8) * 255\n",
    "    rgba_rgb_image = np.dstack((rgb_image, alpha_channel))\n",
    "    cmap = plt.get_cmap(cmap)\n",
    "    heatmap_colored = (cmap(heatmap_image) * 255).astype(np.uint8)\n",
    "    rotated_heatmap_coloured = np.fliplr(np.rot90(heatmap_colored, k=3))\n",
    "    resized_binary_mask = np.rot90(heatmap_image, k=3)\n",
    "    resized_heatmap = Image.fromarray(rotated_heatmap_coloured).resize((rgb_image.shape[1],rgb_image.shape[0]), Image.BILINEAR)\n",
    "    resized_binary_mask=Image.fromarray(resized_binary_mask).resize((rgb_image.shape[1],rgb_image.shape[0]), Image.BILINEAR)\n",
    "    pil_rgb_image = Image.fromarray(rgba_rgb_image)\n",
    "    overlaid_image = Image.blend(pil_rgb_image, resized_heatmap, alpha)\n",
    "    resized_binary_mask_expanded=np.expand_dims(np.flip(resized_binary_mask,1),-1)\n",
    "    overlaid_image=np.array(overlaid_image)\n",
    "    zero_array = np.ones_like(overlaid_image)*255\n",
    "    overlaid_image = np.where(resized_binary_mask_expanded, overlaid_image, zero_array)\n",
    "    overlaid_image[:,:,3]=255\n",
    "    overlaid_image=Image.fromarray(overlaid_image,mode='RGBA')\n",
    "    if save_path is not None:\n",
    "        overlaid_image.save(Path(save_path)/(image_name+\".png\"))\n",
    "        resized_heatmap.save(Path(save_path)/(image_name+\"_heat.png\"))\n",
    "        #overlaid_image.save(Path(save_path)/image_name.replace(\".npy\",\".png\"))\n",
    "    return pil_rgb_image\n"
   ]
  },
  {
   "cell_type": "code",
   "execution_count": null,
   "metadata": {},
   "outputs": [],
   "source": []
  },
  {
   "cell_type": "code",
   "execution_count": 6,
   "metadata": {},
   "outputs": [],
   "source": [
    "\n",
    "def map_risk_score(image_id,attention_values,feature_dir=\"/mnt/ceph_vol/UCEC/features\",feature_size=256,orig_downscale=4):\n",
    "    file= sorted(Path(feature_dir).glob(f\"*{image_id}*.h5\"))[0]\n",
    "    all_ims=[]\n",
    "    with h5py.File(file, 'r') as h5_file:\n",
    "        # Assuming the data is stored in the root of the HDF5 file\n",
    "        # Change 'dataset_name' to the actual name of your dataset # Adjust this if necessary\n",
    "        coords,slide_sizes = h5_file[\"coords\"],h5_file[\"slide_sizes\"]\n",
    "        # Return the first entry in the dataset\n",
    "        all_coord_len=0\n",
    "        scenes=list(np.unique([int(c[0]) for c in coords]))\n",
    "        for i in scenes:\n",
    "            filtered_coords=[c for c in list(coords) if c[0]==i]\n",
    "            c_l=len(filtered_coords)\n",
    "            im=np.zeros(np.uint64(slide_sizes[i]/orig_downscale))\n",
    "            for coord,attention in zip(filtered_coords,attention_values[all_coord_len:all_coord_len+c_l]):\n",
    "                y,x=int(coord[1]),int(coord[2])\n",
    "                im[x:x+feature_size,y:y+feature_size]=attention\n",
    "            all_coord_len+=c_l\n",
    "            im=scale_negatives(im)\n",
    "            all_ims.append(im)\n",
    "            #all_ims.append(im/np.nanmax(np.abs(im)))\n",
    "    return all_ims\n",
    "\n",
    "\n",
    "def map_attentions(image_id,attention_values,feature_dir=\"/mnt/ceph_vol/UCEC/features\",feature_size=256,orig_downscale=4):\n",
    "    file= sorted(Path(feature_dir).glob(f\"*{image_id}*.h5\"))[0]\n",
    "    all_ims=[]\n",
    "    with h5py.File(file, 'r') as h5_file:\n",
    "        # Assuming the data is stored in the root of the HDF5 file\n",
    "        # Change 'dataset_name' to the actual name of your dataset # Adjust this if necessary\n",
    "        coords,slide_sizes = h5_file[\"coords\"],h5_file[\"slide_sizes\"]\n",
    "        # Return the first entry in the dataset\n",
    "        all_coord_len=0\n",
    "        scenes=list(np.unique([int(c[0]) for c in coords]))\n",
    "        for i in scenes:\n",
    "            filtered_coords=[c for c in list(coords) if c[0]==i]\n",
    "            c_l=len(filtered_coords)\n",
    "            im=np.zeros(np.uint64(slide_sizes[i]/orig_downscale))\n",
    "            for coord,attention in zip(filtered_coords,attention_values[all_coord_len:all_coord_len+c_l]):\n",
    "                y,x=int(coord[1]),int(coord[2])\n",
    "                im[x:x+feature_size,y:y+feature_size]=attention\n",
    "            all_coord_len+=c_l\n",
    "            all_ims.append(im/np.nanmax(np.abs(im)))\n",
    "    return all_ims"
   ]
  },
  {
   "cell_type": "code",
   "execution_count": 7,
   "metadata": {},
   "outputs": [],
   "source": [
    "def scale_negatives(arr):\n",
    "    # Make a copy to avoid modifying the original array\n",
    "    result = arr.copy()\n",
    "\n",
    "    # Identify negative values\n",
    "    negative_values = arr < 0\n",
    "\n",
    "    # Scale negative values to the range 0-1\n",
    "    min_val = arr[negative_values].min()\n",
    "    max_val = arr[negative_values].max()\n",
    "    \n",
    "    # Avoid division by zero if all negative values are the same\n",
    "    if min_val != max_val:\n",
    "        result[negative_values] = 1-(arr[negative_values] - min_val) / (max_val - min_val)\n",
    "    \n",
    "    return result"
   ]
  },
  {
   "cell_type": "code",
   "execution_count": 8,
   "metadata": {},
   "outputs": [
    {
     "name": "stderr",
     "output_type": "stream",
     "text": [
      "  1%|          | 1/192 [01:02<3:18:39, 62.41s/it]"
     ]
    },
    {
     "name": "stdout",
     "output_type": "stream",
     "text": [
      "TCGA-2E-A9G8.npy\n"
     ]
    },
    {
     "name": "stderr",
     "output_type": "stream",
     "text": [
      "  1%|          | 2/192 [02:20<3:46:45, 71.61s/it]"
     ]
    },
    {
     "name": "stdout",
     "output_type": "stream",
     "text": [
      "TCGA-5B-A90C.npy\n"
     ]
    },
    {
     "name": "stderr",
     "output_type": "stream",
     "text": [
      "  2%|▏         | 3/192 [03:24<3:34:53, 68.22s/it]"
     ]
    },
    {
     "name": "stdout",
     "output_type": "stream",
     "text": [
      "TCGA-5S-A9Q8.npy\n"
     ]
    },
    {
     "name": "stderr",
     "output_type": "stream",
     "text": [
      "  2%|▏         | 4/192 [04:54<4:00:32, 76.77s/it]"
     ]
    },
    {
     "name": "stdout",
     "output_type": "stream",
     "text": [
      "TCGA-A5-A0G9.npy\n"
     ]
    },
    {
     "name": "stderr",
     "output_type": "stream",
     "text": [
      "  3%|▎         | 5/192 [06:02<3:49:08, 73.52s/it]"
     ]
    },
    {
     "name": "stdout",
     "output_type": "stream",
     "text": [
      "TCGA-A5-A0GB.npy\n"
     ]
    },
    {
     "name": "stderr",
     "output_type": "stream",
     "text": [
      "  3%|▎         | 6/192 [07:10<3:42:14, 71.69s/it]"
     ]
    },
    {
     "name": "stdout",
     "output_type": "stream",
     "text": [
      "TCGA-A5-A0GJ.npy\n"
     ]
    },
    {
     "name": "stderr",
     "output_type": "stream",
     "text": [
      "  4%|▎         | 7/192 [08:26<3:45:41, 73.19s/it]"
     ]
    },
    {
     "name": "stdout",
     "output_type": "stream",
     "text": [
      "TCGA-A5-A0GM.npy\n"
     ]
    },
    {
     "name": "stderr",
     "output_type": "stream",
     "text": [
      "  4%|▍         | 8/192 [10:33<4:37:00, 90.33s/it]"
     ]
    },
    {
     "name": "stdout",
     "output_type": "stream",
     "text": [
      "TCGA-A5-A0R7.npy\n"
     ]
    },
    {
     "name": "stderr",
     "output_type": "stream",
     "text": [
      "  5%|▍         | 9/192 [11:58<4:29:47, 88.45s/it]"
     ]
    },
    {
     "name": "stdout",
     "output_type": "stream",
     "text": [
      "TCGA-A5-A0R9.npy\n"
     ]
    },
    {
     "name": "stderr",
     "output_type": "stream",
     "text": [
      "  5%|▌         | 10/192 [12:55<3:59:05, 78.82s/it]"
     ]
    },
    {
     "name": "stdout",
     "output_type": "stream",
     "text": [
      "TCGA-A5-A0VP.npy\n"
     ]
    },
    {
     "name": "stderr",
     "output_type": "stream",
     "text": [
      "  6%|▌         | 11/192 [13:55<3:40:11, 72.99s/it]"
     ]
    },
    {
     "name": "stdout",
     "output_type": "stream",
     "text": [
      "TCGA-A5-A1OH.npy\n"
     ]
    },
    {
     "name": "stderr",
     "output_type": "stream",
     "text": [
      "  6%|▋         | 12/192 [14:56<3:28:32, 69.51s/it]"
     ]
    },
    {
     "name": "stdout",
     "output_type": "stream",
     "text": [
      "TCGA-A5-A1OJ.npy\n"
     ]
    }
   ],
   "source": [
    "done=[]\n",
    "attention_folder=\"results/5foldcv/MTF_nll_surv_a0.0_lr2e-05_5foldcv_gc16_concat/tcga_ucec_MTF_nll_surv_a0.0_lr2e-05_5foldcv_gc16_concat_s1/bottom_attention\"\n",
    "save_folder=\"/mnt/ceph_vol/figure_vis_6_att/\"\n",
    "preview_dir=\"/mnt/ceph_vol/UCEC/preview\"\n",
    "#extraction_list=[\"21-083_K1\"]\n",
    "attention_files=sorted(Path(attention_folder).glob(\"*.npy\"))\n",
    "\n",
    "for attention_file in tqdm.tqdm(attention_files):\n",
    "    image_id=attention_file.name.replace(\".npy\",\"\")\n",
    "    attention_values=np.load(attention_file)\n",
    "    attentions_mapped=map_attentions(image_id,attention_values)\n",
    "    previews=sorted(Path(preview_dir).glob(f\"*{image_id}*.png\"))\n",
    "    for attention_mapped,preview in zip(attentions_mapped,previews):\n",
    "        prev_im=np.array(Image.open(preview))\n",
    "        overlay_colormap_on_rgb(prev_im,attention_mapped,image_id,save_folder,None)\n",
    "    print(attention_file.name)"
   ]
  },
  {
   "cell_type": "code",
   "execution_count": 11,
   "metadata": {},
   "outputs": [
    {
     "name": "stderr",
     "output_type": "stream",
     "text": [
      "  0%|          | 0/192 [01:02<?, ?it/s]\n"
     ]
    },
    {
     "ename": "FileNotFoundError",
     "evalue": "[Errno 2] No such file or directory: '/mnt/ceph_vol/figure_vis_6_att/TCGA-2E-A9G8.png'",
     "output_type": "error",
     "traceback": [
      "\u001b[0;31m---------------------------------------------------------------------------\u001b[0m",
      "\u001b[0;31mFileNotFoundError\u001b[0m                         Traceback (most recent call last)",
      "Cell \u001b[0;32mIn[11], line 15\u001b[0m\n\u001b[1;32m     13\u001b[0m \u001b[38;5;28;01mfor\u001b[39;00m attention_mapped,preview \u001b[38;5;129;01min\u001b[39;00m \u001b[38;5;28mzip\u001b[39m(attentions_mapped,previews):\n\u001b[1;32m     14\u001b[0m     prev_im\u001b[38;5;241m=\u001b[39mnp\u001b[38;5;241m.\u001b[39marray(Image\u001b[38;5;241m.\u001b[39mopen(preview))\n\u001b[0;32m---> 15\u001b[0m     \u001b[43moverlay_colormap_on_rgb\u001b[49m\u001b[43m(\u001b[49m\u001b[43mprev_im\u001b[49m\u001b[43m,\u001b[49m\u001b[43mattention_mapped\u001b[49m\u001b[43m,\u001b[49m\u001b[43mimage_id\u001b[49m\u001b[43m,\u001b[49m\u001b[43msave_folder\u001b[49m\u001b[43m,\u001b[49m\u001b[38;5;28;43;01mNone\u001b[39;49;00m\u001b[43m)\u001b[49m\n\u001b[1;32m     16\u001b[0m \u001b[38;5;28mprint\u001b[39m(attention_file\u001b[38;5;241m.\u001b[39mname)\n",
      "Cell \u001b[0;32mIn[3], line 25\u001b[0m, in \u001b[0;36moverlay_colormap_on_rgb\u001b[0;34m(rgb_image, heatmap_image, image_name, save_path, high_att_coord, cmap, alpha)\u001b[0m\n\u001b[1;32m     23\u001b[0m overlaid_image\u001b[38;5;241m=\u001b[39mImage\u001b[38;5;241m.\u001b[39mfromarray(overlaid_image,mode\u001b[38;5;241m=\u001b[39m\u001b[38;5;124m'\u001b[39m\u001b[38;5;124mRGBA\u001b[39m\u001b[38;5;124m'\u001b[39m)\n\u001b[1;32m     24\u001b[0m \u001b[38;5;28;01mif\u001b[39;00m save_path \u001b[38;5;129;01mis\u001b[39;00m \u001b[38;5;129;01mnot\u001b[39;00m \u001b[38;5;28;01mNone\u001b[39;00m:\n\u001b[0;32m---> 25\u001b[0m     \u001b[43moverlaid_image\u001b[49m\u001b[38;5;241;43m.\u001b[39;49m\u001b[43msave\u001b[49m\u001b[43m(\u001b[49m\u001b[43mPath\u001b[49m\u001b[43m(\u001b[49m\u001b[43msave_path\u001b[49m\u001b[43m)\u001b[49m\u001b[38;5;241;43m/\u001b[39;49m\u001b[43m(\u001b[49m\u001b[43mimage_name\u001b[49m\u001b[38;5;241;43m+\u001b[39;49m\u001b[38;5;124;43m\"\u001b[39;49m\u001b[38;5;124;43m.png\u001b[39;49m\u001b[38;5;124;43m\"\u001b[39;49m\u001b[43m)\u001b[49m\u001b[43m)\u001b[49m\n\u001b[1;32m     26\u001b[0m     resized_heatmap\u001b[38;5;241m.\u001b[39msave(Path(save_path)\u001b[38;5;241m/\u001b[39m(image_name\u001b[38;5;241m+\u001b[39m\u001b[38;5;124m\"\u001b[39m\u001b[38;5;124m_heat.png\u001b[39m\u001b[38;5;124m\"\u001b[39m))\n\u001b[1;32m     27\u001b[0m     \u001b[38;5;66;03m#overlaid_image.save(Path(save_path)/image_name.replace(\".npy\",\".png\"))\u001b[39;00m\n",
      "File \u001b[0;32m/mnt/ceph_vol/miniconda3/envs/ent_to_end/lib/python3.11/site-packages/PIL/Image.py:2428\u001b[0m, in \u001b[0;36mImage.save\u001b[0;34m(self, fp, format, **params)\u001b[0m\n\u001b[1;32m   2426\u001b[0m         fp \u001b[38;5;241m=\u001b[39m builtins\u001b[38;5;241m.\u001b[39mopen(filename, \u001b[38;5;124m\"\u001b[39m\u001b[38;5;124mr+b\u001b[39m\u001b[38;5;124m\"\u001b[39m)\n\u001b[1;32m   2427\u001b[0m     \u001b[38;5;28;01melse\u001b[39;00m:\n\u001b[0;32m-> 2428\u001b[0m         fp \u001b[38;5;241m=\u001b[39m builtins\u001b[38;5;241m.\u001b[39mopen(filename, \u001b[38;5;124m\"\u001b[39m\u001b[38;5;124mw+b\u001b[39m\u001b[38;5;124m\"\u001b[39m)\n\u001b[1;32m   2430\u001b[0m \u001b[38;5;28;01mtry\u001b[39;00m:\n\u001b[1;32m   2431\u001b[0m     save_handler(\u001b[38;5;28mself\u001b[39m, fp, filename)\n",
      "\u001b[0;31mFileNotFoundError\u001b[0m: [Errno 2] No such file or directory: '/mnt/ceph_vol/figure_vis_6_att/TCGA-2E-A9G8.png'"
     ]
    }
   ],
   "source": [
    "done=[]\n",
    "attention_folder=\"results/5foldcv/MTF_nll_surv_a0.0_lr2e-05_5foldcv_gc16_concat/tcga_ucec_MTF_nll_surv_a0.0_lr2e-05_5foldcv_gc16_concat_s1/patch_risk\"\n",
    "save_folder=\"/mnt/ceph_vol/figure_vis_6_att/\"\n",
    "preview_dir=\"/mnt/ceph_vol/UCEC/preview\"\n",
    "#extraction_list=[\"21-083_K1\"]\n",
    "attention_files=sorted(Path(attention_folder).glob(\"*.npy\"))\n",
    "\n",
    "for attention_file in tqdm.tqdm(attention_files):\n",
    "    image_id=attention_file.name.replace(\".npy\",\"\")\n",
    "    attention_values=np.load(attention_file)\n",
    "    attentions_mapped=map_attentions(image_id,attention_values)\n",
    "    previews=sorted(Path(preview_dir).glob(f\"*{image_id}*.png\"))\n",
    "    for attention_mapped,preview in zip(attentions_mapped,previews):\n",
    "        prev_im=np.array(Image.open(preview))\n",
    "        overlay_colormap_on_rgb(prev_im,attention_mapped,image_id,save_folder,None)\n",
    "    print(attention_file.name)\n",
    "\n"
   ]
  }
 ],
 "metadata": {
  "kernelspec": {
   "display_name": "histo",
   "language": "python",
   "name": "python3"
  },
  "language_info": {
   "codemirror_mode": {
    "name": "ipython",
    "version": 3
   },
   "file_extension": ".py",
   "mimetype": "text/x-python",
   "name": "python",
   "nbconvert_exporter": "python",
   "pygments_lexer": "ipython3",
   "version": "3.11.4"
  },
  "orig_nbformat": 4
 },
 "nbformat": 4,
 "nbformat_minor": 2
}
