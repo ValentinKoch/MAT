{
 "cells": [
  {
   "cell_type": "code",
   "execution_count": 1,
   "metadata": {},
   "outputs": [],
   "source": [
    "import numpy as np\n",
    "import matplotlib.pyplot as plt\n",
    "from PIL import Image, ImageDraw\n",
    "from pathlib import Path\n",
    "from scipy.ndimage import label\n",
    "import pandas as pd\n",
    "import h5py\n",
    "import tqdm"
   ]
  },
  {
   "cell_type": "code",
   "execution_count": 2,
   "metadata": {},
   "outputs": [],
   "source": [
    "def average_attentions(attention_list):    \n",
    "    summed_att=np.zeros_like(np.load(attention_list[0]))\n",
    "    count_non_zero= np.zeros_like(summed_att)\n",
    "    for attention in attention_list:\n",
    "        att=np.load(attention)\n",
    "        att=np.nan_to_num(att)\n",
    "        summed_att=summed_att+att\n",
    "        count_non_zero=count_non_zero+(att>0).astype(np.uint32)\n",
    "    return summed_att,summed_att/count_non_zero,count_non_zero\n",
    "\n",
    "def get_image(image_name,slide_folder):\n",
    "    slide_name,scene_nr=get_slide_name(image_name)\n",
    "    slide=Image.open(slide_name)\n",
    "    scene = slide.get_scene(scene_nr)\n",
    "    wsi = wsi[..., ::-1]\n",
    "    orig_size=np.uint32(np.array(size)/8)\n",
    "    return wsi,orig_size\n"
   ]
  },
  {
   "cell_type": "code",
   "execution_count": 3,
   "metadata": {},
   "outputs": [],
   "source": [
    "\n",
    "\n",
    "def get_high_attention_patch(attention_map,slide_folder,image_name,save_path):\n",
    "\n",
    "    return \n",
    "\n",
    "\n",
    "def overlay_colormap_on_rgb(rgb_image, heatmap_image, image_name,save_path,high_att_coord, cmap='viridis', alpha=0.4):\n",
    "\n",
    "    alpha_channel = np.ones((rgb_image.shape[0], rgb_image.shape[1]), dtype=np.uint8) * 255\n",
    "    rgba_rgb_image = np.dstack((rgb_image, alpha_channel))\n",
    "    cmap = plt.get_cmap(cmap)\n",
    "    heatmap_colored = (cmap(heatmap_image) * 255).astype(np.uint8)\n",
    "    rotated_heatmap_coloured = np.fliplr(np.rot90(heatmap_colored, k=3))\n",
    "    resized_binary_mask = np.rot90(heatmap_image, k=3)\n",
    "    resized_heatmap = Image.fromarray(rotated_heatmap_coloured).resize((rgb_image.shape[1],rgb_image.shape[0]), Image.BILINEAR)\n",
    "    resized_binary_mask=Image.fromarray(resized_binary_mask).resize((rgb_image.shape[1],rgb_image.shape[0]), Image.BILINEAR)\n",
    "    pil_rgb_image = Image.fromarray(rgba_rgb_image)\n",
    "    overlaid_image = Image.blend(pil_rgb_image, resized_heatmap, alpha)\n",
    "    resized_binary_mask_expanded=np.expand_dims(np.flip(resized_binary_mask,1),-1)\n",
    "    overlaid_image=np.array(overlaid_image)\n",
    "    zero_array = np.ones_like(overlaid_image)*255\n",
    "    overlaid_image = np.where(resized_binary_mask_expanded, overlaid_image, zero_array)\n",
    "    overlaid_image[:,:,3]=255\n",
    "    overlaid_image=Image.fromarray(overlaid_image,mode='RGBA')\n",
    "    if save_path is not None:\n",
    "        overlaid_image.save(Path(save_path)/(image_name+\".png\"))\n",
    "        resized_heatmap.save(Path(save_path)/(image_name+\"_heat.png\"))\n",
    "        #overlaid_image.save(Path(save_path)/image_name.replace(\".npy\",\".png\"))\n",
    "    return pil_rgb_image\n"
   ]
  },
  {
   "cell_type": "code",
   "execution_count": null,
   "metadata": {},
   "outputs": [],
   "source": []
  },
  {
   "cell_type": "code",
   "execution_count": 34,
   "metadata": {},
   "outputs": [],
   "source": [
    "\n",
    "def map_attentions(image_id,attention_values,feature_dir=\"/mnt/ceph_vol/UCEC/features\",feature_size=256,orig_downscale=4):\n",
    "    file= sorted(Path(feature_dir).glob(f\"*{image_id}*.h5\"))[0]\n",
    "    all_ims=[]\n",
    "    with h5py.File(file, 'r') as h5_file:\n",
    "        # Assuming the data is stored in the root of the HDF5 file\n",
    "        # Change 'dataset_name' to the actual name of your dataset # Adjust this if necessary\n",
    "        coords,slide_sizes = h5_file[\"coords\"],h5_file[\"slide_sizes\"]\n",
    "        # Return the first entry in the dataset\n",
    "        all_coord_len=0\n",
    "        scenes=list(np.unique([int(c[0]) for c in coords]))\n",
    "        for i in scenes:\n",
    "            filtered_coords=[c for c in list(coords) if c[0]==i]\n",
    "            c_l=len(filtered_coords)\n",
    "            im=np.zeros(np.uint64(slide_sizes[i]/orig_downscale))\n",
    "            for coord,attention in zip(filtered_coords,attention_values[all_coord_len:all_coord_len+c_l]):\n",
    "                y,x=int(coord[1]),int(coord[2])\n",
    "                im[x:x+feature_size,y:y+feature_size]=attention\n",
    "            all_coord_len+=c_l\n",
    "            im=scale_negatives(im)\n",
    "            all_ims.append(im)\n",
    "            #all_ims.append(im/np.nanmax(np.abs(im)))\n",
    "    return all_ims"
   ]
  },
  {
   "cell_type": "code",
   "execution_count": 33,
   "metadata": {},
   "outputs": [],
   "source": [
    "import numpy as np\n",
    "\n",
    "def scale_negatives(arr):\n",
    "    # Make a copy to avoid modifying the original array\n",
    "    result = arr.copy()\n",
    "\n",
    "    # Identify negative values\n",
    "    negative_values = arr < 0\n",
    "\n",
    "    # Scale negative values to the range 0-1\n",
    "    min_val = arr[negative_values].min()\n",
    "    max_val = arr[negative_values].max()\n",
    "    \n",
    "    # Avoid division by zero if all negative values are the same\n",
    "    if min_val != max_val:\n",
    "        result[negative_values] = (arr[negative_values] - min_val) / (max_val - min_val)\n",
    "    \n",
    "    return result\n"
   ]
  },
  {
   "cell_type": "code",
   "execution_count": null,
   "metadata": {},
   "outputs": [
    {
     "name": "stderr",
     "output_type": "stream",
     "text": [
      "  1%|          | 1/96 [01:19<2:05:20, 79.16s/it]"
     ]
    },
    {
     "name": "stdout",
     "output_type": "stream",
     "text": [
      "TCGA-5B-A90C.npy\n"
     ]
    },
    {
     "name": "stderr",
     "output_type": "stream",
     "text": [
      "  2%|▏         | 2/96 [02:23<1:50:20, 70.43s/it]"
     ]
    },
    {
     "name": "stdout",
     "output_type": "stream",
     "text": [
      "TCGA-5S-A9Q8.npy\n"
     ]
    },
    {
     "name": "stderr",
     "output_type": "stream",
     "text": [
      "  3%|▎         | 3/96 [03:31<1:47:17, 69.22s/it]"
     ]
    },
    {
     "name": "stdout",
     "output_type": "stream",
     "text": [
      "TCGA-A5-A0GB.npy\n"
     ]
    },
    {
     "ename": "",
     "evalue": "",
     "output_type": "error",
     "traceback": [
      "\u001b[1;31mThe Kernel crashed while executing code in the the current cell or a previous cell. Please review the code in the cell(s) to identify a possible cause of the failure. Click <a href='https://aka.ms/vscodeJupyterKernelCrash'>here</a> for more info. View Jupyter <a href='command:jupyter.viewOutput'>log</a> for further details."
     ]
    }
   ],
   "source": [
    "done=[]\n",
    "attention_folder=\"results/5foldcv/MTF_nll_surv_a0.0_lr2e-05_5foldcv_gc16_concat/tcga_ucec_MTF_nll_surv_a0.0_lr2e-05_5foldcv_gc16_concat_s1/patch_risk\"\n",
    "save_folder=\"/mnt/ceph_vol/figure_vis_6/\"\n",
    "preview_dir=\"/mnt/ceph_vol/UCEC/preview\"\n",
    "#extraction_list=[\"21-083_K1\"]\n",
    "attention_files=sorted(Path(attention_folder).glob(\"*.npy\"))\n",
    "\n",
    "for attention_file in tqdm.tqdm(attention_files):\n",
    "    image_id=attention_file.name.replace(\".npy\",\"\")\n",
    "    attention_values=np.load(attention_file)\n",
    "    attentions_mapped=map_attentions(image_id,attention_values)\n",
    "    previews=sorted(Path(preview_dir).glob(f\"*{image_id}*.png\"))\n",
    "    for attention_mapped,preview in zip(attentions_mapped,previews):\n",
    "        prev_im=np.array(Image.open(preview))\n",
    "        overlay_colormap_on_rgb(prev_im,attention_mapped,image_id,save_folder,None)\n",
    "    print(attention_file.name)\n",
    "\n"
   ]
  }
 ],
 "metadata": {
  "kernelspec": {
   "display_name": "histo",
   "language": "python",
   "name": "python3"
  },
  "language_info": {
   "codemirror_mode": {
    "name": "ipython",
    "version": 3
   },
   "file_extension": ".py",
   "mimetype": "text/x-python",
   "name": "python",
   "nbconvert_exporter": "python",
   "pygments_lexer": "ipython3",
   "version": "3.11.4"
  },
  "orig_nbformat": 4
 },
 "nbformat": 4,
 "nbformat_minor": 2
}
