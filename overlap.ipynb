{
 "cells": [
  {
   "cell_type": "code",
   "execution_count": 12,
   "metadata": {},
   "outputs": [],
   "source": [
    "import numpy as np\n",
    "import matplotlib.pyplot as plt\n",
    "from PIL import Image, ImageDraw\n",
    "from pathlib import Path\n",
    "from scipy.ndimage import label\n",
    "import pandas as pd\n",
    "import h5py"
   ]
  },
  {
   "cell_type": "code",
   "execution_count": 4,
   "metadata": {},
   "outputs": [],
   "source": [
    "def average_attentions(attention_list):    \n",
    "    summed_att=np.zeros_like(np.load(attention_list[0]))\n",
    "    count_non_zero= np.zeros_like(summed_att)\n",
    "    for attention in attention_list:\n",
    "        att=np.load(attention)\n",
    "        att=np.nan_to_num(att)\n",
    "        summed_att=summed_att+att\n",
    "        count_non_zero=count_non_zero+(att>0).astype(np.uint32)\n",
    "    return summed_att,summed_att/count_non_zero,count_non_zero\n",
    "\n",
    "def get_image(image_name,slide_folder):\n",
    "    slide_name,scene_nr=get_slide_name(image_name)\n",
    "    slide=Image.open(slide_name)\n",
    "    scene = slide.get_scene(scene_nr)\n",
    "    wsi = wsi[..., ::-1]\n",
    "    orig_size=np.uint32(np.array(size)/8)\n",
    "    return wsi,orig_size\n"
   ]
  },
  {
   "cell_type": "code",
   "execution_count": 5,
   "metadata": {},
   "outputs": [],
   "source": [
    "\n",
    "\n",
    "def get_high_attention_patch(attention_map,slide_folder,image_name,save_path):\n",
    "\n",
    "    return \n",
    "\n",
    "\n",
    "def overlay_colormap_on_rgb(rgb_image, heatmap_image, image_name,save_path,high_att_coord, cmap='viridis', alpha=0.4):\n",
    "    # Apply colormap to heatmap_image\n",
    "    alpha_channel = np.ones((rgb_image.shape[0], rgb_image.shape[1]), dtype=np.uint8) * 255\n",
    "    \n",
    "    # Convert RGB image to RGBA format\n",
    "    rgba_rgb_image = np.dstack((rgb_image, alpha_channel))\n",
    "    cmap = plt.get_cmap(cmap)\n",
    "    #inverted_cmap = cmap.reversed()\n",
    "    heatmap_colored = (cmap(heatmap_image) * 255).astype(np.uint8)\n",
    "    # Rotate heatmap by 90 degrees\n",
    "    rotated_heatmap_coloured = np.fliplr(np.rot90(heatmap_colored, k=3))\n",
    "\n",
    "    # Step 1: Expand the dimensions of resized_binary_mask\n",
    "    resized_binary_mask = np.rot90(heatmap_image, k=3)\n",
    "\n",
    "    # Resize rotated_heatmap to match the size of rgb_image\n",
    "    resized_heatmap = Image.fromarray(rotated_heatmap_coloured).resize((rgb_image.shape[1],rgb_image.shape[0]), Image.BILINEAR)\n",
    "    resized_binary_mask=Image.fromarray(resized_binary_mask).resize((rgb_image.shape[1],rgb_image.shape[0]), Image.BILINEAR)\n",
    "    #resized_heatmap.save(image_name.replace(\".npy\",\"\"))\n",
    "\n",
    "    # Convert RGB image to PIL format\n",
    "    pil_rgb_image = Image.fromarray(rgba_rgb_image)\n",
    "\n",
    "    # Combine the two images with the specified alpha\n",
    "    overlaid_image = Image.blend(pil_rgb_image, resized_heatmap, alpha)\n",
    "    resized_binary_mask_expanded=np.expand_dims(np.flip(resized_binary_mask,1),-1)\n",
    "    #overlaid_image.save(\"overlay_\"+image_name.replace(\".npy\",\"\"))\n",
    "    overlaid_image=np.array(overlaid_image)\n",
    "    zero_array = np.ones_like(overlaid_image)*255\n",
    "    overlaid_image = np.where(resized_binary_mask_expanded, overlaid_image, zero_array)\n",
    "    overlaid_image[:,:,3]=255\n",
    "    #mask = np.all(overlaid_image[:, :, :3] == [153, 153, 153], axis=-1)\n",
    "\n",
    "    #overlaid_image[mask]=[106, 113, 91,255]\n",
    "    #overlaid_image=Image.fromarray(overlaid_image)\n",
    "    overlaid_image=Image.fromarray(overlaid_image,mode='RGBA')\n",
    "    draw = ImageDraw.Draw(overlaid_image)\n",
    "\n",
    "    x,y=high_att_coord\n",
    "    x,y=int(x/2),int(y/2)\n",
    "    width = 64  # Replace with your width\n",
    "\n",
    "    # Calculate coordinates of the right lower corner\n",
    "    right_lower_corner = (y + width, x + width)\n",
    "\n",
    "    # Draw a square\n",
    "    draw.rectangle([y-width, x-width, right_lower_corner], outline=\"black\",width=10)\n",
    "    if save_path is not None:\n",
    "        overlaid_image.save(Path(save_path)/image_name.replace(\".npy\",\"\"))\n",
    "    return pil_rgb_image\n"
   ]
  },
  {
   "cell_type": "code",
   "execution_count": null,
   "metadata": {},
   "outputs": [],
   "source": []
  },
  {
   "cell_type": "code",
   "execution_count": 54,
   "metadata": {},
   "outputs": [],
   "source": [
    "\n",
    "def map_attentions(image_id,attention_values,feature_dir=\"/mnt/ceph_vol/UCEC/features\",feature_size=256,downscale=8):\n",
    "    feature_size=int(feature_size/downscale)\n",
    "    file= sorted(Path(feature_dir).glob(f\"*{image_id}*.h5\"))[0]\n",
    "    all_ims=[]\n",
    "    with h5py.File(file, 'r') as h5_file:\n",
    "        # Assuming the data is stored in the root of the HDF5 file\n",
    "        # Change 'dataset_name' to the actual name of your dataset # Adjust this if necessary\n",
    "        coords,slide_sizes = h5_file[\"coords\"],h5_file[\"slide_sizes\"]\n",
    "        # Return the first entry in the dataset\n",
    "        all_coord_len=0\n",
    "        scenes=list(np.unique([int(c[0]) for c in coords]))\n",
    "        for i in scenes:\n",
    "            filtered_coords=[c for c in list(coords) if c[0]==0]\n",
    "            c_l=len(filtered_coords)\n",
    "            im=np.zeros(slide_sizes[i])\n",
    "            for coord,attention in zip(filtered_coords,attention_values[all_coord_len:all_coord_len+c_l]):\n",
    "                x,y=int(coord[1]/downscale),int(coord[2]/downscale)\n",
    "                im[x:x+feature_size,y:y+feature_size]=attention\n",
    "            all_coord_len+=c_l   \n",
    "        print(\"return im\")       \n",
    "        return im"
   ]
  },
  {
   "cell_type": "code",
   "execution_count": 56,
   "metadata": {},
   "outputs": [
    {
     "name": "stdout",
     "output_type": "stream",
     "text": [
      "return im\n"
     ]
    },
    {
     "ename": "NameError",
     "evalue": "name 'get_preview' is not defined",
     "output_type": "error",
     "traceback": [
      "\u001b[0;31m---------------------------------------------------------------------------\u001b[0m",
      "\u001b[0;31mNameError\u001b[0m                                 Traceback (most recent call last)",
      "\u001b[1;32m/mnt/ceph_vol/MAT/overlap.ipynb Cell 6\u001b[0m line \u001b[0;36m1\n\u001b[1;32m      <a href='vscode-notebook-cell://ssh-remote%2Bdenbi/mnt/ceph_vol/MAT/overlap.ipynb#W3sdnNjb2RlLXJlbW90ZQ%3D%3D?line=7'>8</a>\u001b[0m attention_values\u001b[39m=\u001b[39mnp\u001b[39m.\u001b[39mload(attention_file)\n\u001b[1;32m      <a href='vscode-notebook-cell://ssh-remote%2Bdenbi/mnt/ceph_vol/MAT/overlap.ipynb#W3sdnNjb2RlLXJlbW90ZQ%3D%3D?line=8'>9</a>\u001b[0m attention_mapped\u001b[39m=\u001b[39mmap_attentions(image_id,attention_values)\n\u001b[0;32m---> <a href='vscode-notebook-cell://ssh-remote%2Bdenbi/mnt/ceph_vol/MAT/overlap.ipynb#W3sdnNjb2RlLXJlbW90ZQ%3D%3D?line=9'>10</a>\u001b[0m preview\u001b[39m=\u001b[39mget_preview(image_id)\n\u001b[1;32m     <a href='vscode-notebook-cell://ssh-remote%2Bdenbi/mnt/ceph_vol/MAT/overlap.ipynb#W3sdnNjb2RlLXJlbW90ZQ%3D%3D?line=10'>11</a>\u001b[0m overlay_colormap_on_rgb(preview,attention_mapped,image_id,save_path,\u001b[39mNone\u001b[39;00m)\n",
      "\u001b[0;31mNameError\u001b[0m: name 'get_preview' is not defined"
     ]
    }
   ],
   "source": [
    "done=[]\n",
    "attention_folder=\"/mnt/ceph_vol/MAT/results/5foldcv/MTF_nll_surv_a0.0_lr2e-05_5foldcv_gc15_concat/tcga_ucec_MTF_nll_surv_a0.0_lr2e-05_5foldcv_gc15_concat_s1/bottom_attention\"\n",
    "save_folder=\"/mnt/ceph_vol/figure_vis_6/\"\n",
    "#extraction_list=[\"21-083_K1\"]\n",
    "attention_files=Path(attention_folder).glob(\"*.npy\")\n",
    "for attention_file in attention_files:\n",
    "    image_id=attention_file.name.replace(\".npy\",\"\")\n",
    "    attention_values=np.load(attention_file)\n",
    "    attention_mapped=map_attentions(image_id,attention_values)\n",
    "    preview=get_preview(image_id)\n",
    "    overlay_colormap_on_rgb(preview,attention_mapped,image_id,save_path,None)\n",
    "\n",
    "\n"
   ]
  }
 ],
 "metadata": {
  "kernelspec": {
   "display_name": "histo",
   "language": "python",
   "name": "python3"
  },
  "language_info": {
   "codemirror_mode": {
    "name": "ipython",
    "version": 3
   },
   "file_extension": ".py",
   "mimetype": "text/x-python",
   "name": "python",
   "nbconvert_exporter": "python",
   "pygments_lexer": "ipython3",
   "version": "3.11.4"
  },
  "orig_nbformat": 4
 },
 "nbformat": 4,
 "nbformat_minor": 2
}
